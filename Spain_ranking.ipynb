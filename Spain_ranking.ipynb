{
 "cells": [
  {
   "cell_type": "code",
   "execution_count": 15,
   "metadata": {},
   "outputs": [],
   "source": [
    "import pandas as pd\n",
    "import numpy as np\n",
    "\n",
    "\n",
    "df = pd.read_csv('https://cnecovid.isciii.es/covid19/resources/datos_provincias.csv')\n",
    "df['provincia_iso'].fillna('NA', inplace = True)\n",
    "ab = pd.read_csv(r'Spain_Abbrev.csv')\n",
    "ab['Abbrev'].fillna('NA', inplace = True)\n",
    "\n",
    "focus = df.copy().drop(['num_casos_prueba_pcr','num_casos_prueba_test_ac','num_casos_prueba_otras','num_casos_prueba_desconocida'], axis=1).set_index(['fecha'])\n",
    "confirm = focus.groupby('provincia_iso').sum().T\n",
    "#print(confirm)\n",
    "cols=['Province','COVID-Free Days','New Cases in Last 14 Days']\n",
    "collect = []\n",
    "for p in confirm.columns:\n",
    "    n = focus[focus['provincia_iso']==p]\n",
    "    p_long = ab.loc[ab['Abbrev']==p,'Province'].item()\n",
    "    ave = n['num_casos']\n",
    "    las = len(ave)-14\n",
    "    last_forteen = ave[las:].sum()\n",
    "    if last_forteen < 0:\n",
    "        last_forteen = 0\n",
    "    i = len(ave)-1\n",
    "    c = 0\n",
    "    while i > 0:\n",
    "        if ave[i] <= 0:\n",
    "            c = c + 1\n",
    "        else:\n",
    "            i = 0\n",
    "        i = i - 1\n",
    "\n",
    "    collect.append((p_long,\n",
    "                   c,\n",
    "                   last_forteen))\n",
    "    \n",
    "thr = pd.DataFrame(collect, columns=cols)\n",
    "fin = thr.sort_values(['COVID-Free Days'], ascending=[False])\n",
    "fin['week'] = fin['COVID-Free Days'].gt(13) \n",
    "tab = fin.sort_values(['week'], ascending=[False])\n",
    "tab_t = tab[tab['week']==True]\n",
    "tab_f = tab[tab['week']==False]\n",
    "tab_f = tab_f.sort_values(['New Cases in Last 14 Days','COVID-Free Days'], ascending = [True,False])\n",
    "tab_t = tab_t.sort_values(['COVID-Free Days','New Cases in Last 14 Days'], ascending = [False,True])\n",
    "tab = tab_t.append(tab_f)\n",
    "tab = tab.drop(['week'], axis=1)\n",
    "\n",
    "\n",
    "def highlighter(s):\n",
    "    val_1 = s['COVID-Free Days']\n",
    "    val_2 = s['New Cases in Last 14 Days']\n",
    "    r=''\n",
    "    try:\n",
    "        if val_1>=14:\n",
    "            r = 'background-color: #018001;'\n",
    "        elif 20>=val_2 :\n",
    "            r = 'background-color: #02be02;'\n",
    "        elif 200>=val_2 >=21:\n",
    "            r = 'background-color: #ffff01;'\n",
    "        elif 1000>=val_2 >= 201:\n",
    "            r = 'background-color: #ffa501;'\n",
    "        elif 20000>=val_2 >= 1001:\n",
    "            r = 'background-color: #ff3434;'\n",
    "        elif val_2 > 20001:\n",
    "            r = 'background-color: #990033;'\n",
    "    except Exception as e:\n",
    "        r = 'background-color: white'\n",
    "    return [r]*len(s)\n",
    "\n",
    "def hover(hover_color=\"#ffff99\"):\n",
    "    return dict(selector=\"tbody tr:hover td, tbody tr:hover th\",\n",
    "                props=[(\"background-color\", \"rgba(66, 165, 245, 0.2) !important\")])\n",
    "\n",
    "top = \"\"\"\n",
    "\n",
    "<html>\n",
    "<head>\n",
    "<style>\n",
    "\n",
    "    h2 {\n",
    "        text-align: center;\n",
    "        font-family: Helvetica, Arial, sans-serif;\n",
    "    }\n",
    "    table { \n",
    "        margin-left: auto;\n",
    "        margin-right: auto;\n",
    "    }\n",
    "    table, th, td {\n",
    "        border: 1px solid black;\n",
    "        border-collapse: collapse;\n",
    "    }\n",
    "    th, td {\n",
    "        padding: 5px;\n",
    "        text-align: center;\n",
    "        font-family: Helvetica, Arial, sans-serif;\n",
    "        font-size: 90%;\n",
    "    }\n",
    "    table tbody tr:hover {\n",
    "        background-color: #dddddd;\n",
    "    }\n",
    "    /*\n",
    "    table tbody tr:hover td, table tbody tr:hover th {\n",
    "  background-color: #dddddd !important;\n",
    "    }\n",
    "    /*\n",
    "    .wide {\n",
    "        width: 90%; \n",
    "    }\n",
    "\n",
    "</style>\n",
    "</head>\n",
    "<body>\n",
    "\"\"\"\n",
    "bottom = \"\"\"\n",
    "</body>\n",
    "</html>\n",
    "\"\"\"\n",
    "\n",
    "\n",
    "# In[20]:\n",
    "\n",
    "\n",
    "styles=[hover(),]\n",
    "tab['Rank'] = tab.reset_index().index\n",
    "tab['Rank'] = tab['Rank'].add(1)\n",
    "tab = tab[['Rank', 'Province', 'COVID-Free Days', 'New Cases in Last 14 Days']]       \n",
    "s = tab.style.apply(highlighter, axis = 1).set_table_styles(styles).hide_index()\n",
    "try:        \n",
    "    with open(f'Spain.html', 'w', encoding=\"utf-8\") as out:\n",
    "        content = top + s.render() + bottom\n",
    "        out.write(content)\n",
    "except Exception as e:\n",
    "    print(f'Error:\\n{e}')"
   ]
  },
  {
   "cell_type": "code",
   "execution_count": 2,
   "metadata": {},
   "outputs": [],
   "source": []
  },
  {
   "cell_type": "code",
   "execution_count": null,
   "metadata": {},
   "outputs": [],
   "source": []
  },
  {
   "cell_type": "code",
   "execution_count": null,
   "metadata": {},
   "outputs": [],
   "source": [
    "\n"
   ]
  },
  {
   "cell_type": "code",
   "execution_count": 4,
   "metadata": {},
   "outputs": [],
   "source": []
  },
  {
   "cell_type": "code",
   "execution_count": 8,
   "metadata": {},
   "outputs": [],
   "source": []
  },
  {
   "cell_type": "code",
   "execution_count": null,
   "metadata": {},
   "outputs": [],
   "source": []
  },
  {
   "cell_type": "code",
   "execution_count": null,
   "metadata": {},
   "outputs": [],
   "source": []
  },
  {
   "cell_type": "code",
   "execution_count": null,
   "metadata": {},
   "outputs": [],
   "source": [
    "\n"
   ]
  },
  {
   "cell_type": "markdown",
   "metadata": {},
   "source": []
  },
  {
   "cell_type": "markdown",
   "metadata": {},
   "source": []
  },
  {
   "cell_type": "markdown",
   "metadata": {},
   "source": []
  },
  {
   "cell_type": "code",
   "execution_count": null,
   "metadata": {},
   "outputs": [],
   "source": []
  },
  {
   "cell_type": "code",
   "execution_count": null,
   "metadata": {},
   "outputs": [],
   "source": []
  },
  {
   "cell_type": "code",
   "execution_count": null,
   "metadata": {},
   "outputs": [],
   "source": []
  },
  {
   "cell_type": "code",
   "execution_count": null,
   "metadata": {},
   "outputs": [],
   "source": []
  },
  {
   "cell_type": "code",
   "execution_count": null,
   "metadata": {},
   "outputs": [],
   "source": []
  },
  {
   "cell_type": "markdown",
   "metadata": {},
   "source": []
  },
  {
   "cell_type": "markdown",
   "metadata": {},
   "source": []
  },
  {
   "cell_type": "code",
   "execution_count": null,
   "metadata": {},
   "outputs": [],
   "source": []
  },
  {
   "cell_type": "code",
   "execution_count": 29,
   "metadata": {},
   "outputs": [],
   "source": []
  },
  {
   "cell_type": "code",
   "execution_count": null,
   "metadata": {},
   "outputs": [],
   "source": []
  },
  {
   "cell_type": "code",
   "execution_count": null,
   "metadata": {
    "scrolled": true
   },
   "outputs": [],
   "source": []
  },
  {
   "cell_type": "code",
   "execution_count": null,
   "metadata": {},
   "outputs": [],
   "source": []
  },
  {
   "cell_type": "markdown",
   "metadata": {},
   "source": []
  },
  {
   "cell_type": "markdown",
   "metadata": {},
   "source": []
  },
  {
   "cell_type": "code",
   "execution_count": null,
   "metadata": {},
   "outputs": [],
   "source": []
  },
  {
   "cell_type": "code",
   "execution_count": null,
   "metadata": {},
   "outputs": [],
   "source": []
  },
  {
   "cell_type": "markdown",
   "metadata": {},
   "source": []
  },
  {
   "cell_type": "raw",
   "metadata": {},
   "source": []
  },
  {
   "cell_type": "markdown",
   "metadata": {},
   "source": []
  },
  {
   "cell_type": "code",
   "execution_count": null,
   "metadata": {},
   "outputs": [],
   "source": []
  },
  {
   "cell_type": "markdown",
   "metadata": {},
   "source": []
  },
  {
   "cell_type": "code",
   "execution_count": null,
   "metadata": {},
   "outputs": [],
   "source": []
  },
  {
   "cell_type": "code",
   "execution_count": null,
   "metadata": {},
   "outputs": [],
   "source": []
  }
 ],
 "metadata": {
  "kernelspec": {
   "display_name": "Python 3",
   "language": "python",
   "name": "python3"
  },
  "language_info": {
   "codemirror_mode": {
    "name": "ipython",
    "version": 3
   },
   "file_extension": ".py",
   "mimetype": "text/x-python",
   "name": "python",
   "nbconvert_exporter": "python",
   "pygments_lexer": "ipython3",
   "version": "3.7.6"
  },
  "toc": {
   "base_numbering": 1,
   "nav_menu": {},
   "number_sections": true,
   "sideBar": true,
   "skip_h1_title": false,
   "title_cell": "Table of Contents",
   "title_sidebar": "Contents",
   "toc_cell": false,
   "toc_position": {},
   "toc_section_display": true,
   "toc_window_display": false
  }
 },
 "nbformat": 4,
 "nbformat_minor": 4
}
